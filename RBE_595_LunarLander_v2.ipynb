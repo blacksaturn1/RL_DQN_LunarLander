{
  "nbformat": 4,
  "nbformat_minor": 0,
  "metadata": {
    "colab": {
      "provenance": [],
      "gpuType": "V100",
      "authorship_tag": "ABX9TyPpqzqraw8aikb4fkMESgN0",
      "include_colab_link": true
    },
    "kernelspec": {
      "name": "python3",
      "display_name": "Python 3"
    },
    "language_info": {
      "name": "python"
    },
    "accelerator": "GPU"
  },
  "cells": [
    {
      "cell_type": "markdown",
      "metadata": {
        "id": "view-in-github",
        "colab_type": "text"
      },
      "source": [
        "<a href=\"https://colab.research.google.com/github/blacksaturn1/RL_DQN_LunarLander/blob/main/RBE_595_LunarLander_v2.ipynb\" target=\"_parent\"><img src=\"https://colab.research.google.com/assets/colab-badge.svg\" alt=\"Open In Colab\"/></a>"
      ]
    },
    {
      "cell_type": "markdown",
      "source": [
        "# Install dependencies"
      ],
      "metadata": {
        "id": "npJ7ab-xQSQX"
      }
    },
    {
      "cell_type": "code",
      "execution_count": 1,
      "metadata": {
        "colab": {
          "base_uri": "https://localhost:8080/"
        },
        "id": "paYKsq4pNIVr",
        "outputId": "d9eb58f1-2f8d-4b69-da14-8d6b21b33e59"
      },
      "outputs": [
        {
          "output_type": "stream",
          "name": "stdout",
          "text": [
            "Collecting swig\n",
            "  Downloading swig-4.1.1.post1-py2.py3-none-manylinux_2_5_x86_64.manylinux1_x86_64.whl (1.8 MB)\n",
            "\u001b[2K     \u001b[90m━━━━━━━━━━━━━━━━━━━━━━━━━━━━━━━━━━━━━━━━\u001b[0m \u001b[32m1.8/1.8 MB\u001b[0m \u001b[31m11.2 MB/s\u001b[0m eta \u001b[36m0:00:00\u001b[0m\n",
            "\u001b[?25hInstalling collected packages: swig\n",
            "Successfully installed swig-4.1.1.post1\n",
            "Collecting box2d-py\n",
            "  Downloading box2d-py-2.3.8.tar.gz (374 kB)\n",
            "\u001b[2K     \u001b[90m━━━━━━━━━━━━━━━━━━━━━━━━━━━━━━━━━━━━━━━━\u001b[0m \u001b[32m374.5/374.5 kB\u001b[0m \u001b[31m3.6 MB/s\u001b[0m eta \u001b[36m0:00:00\u001b[0m\n",
            "\u001b[?25h  Preparing metadata (setup.py) ... \u001b[?25l\u001b[?25hdone\n",
            "Building wheels for collected packages: box2d-py\n",
            "  Building wheel for box2d-py (setup.py) ... \u001b[?25l\u001b[?25hdone\n",
            "  Created wheel for box2d-py: filename=box2d_py-2.3.8-cp310-cp310-linux_x86_64.whl size=2373073 sha256=ff31cd01893bced52b689ba783175dcd48697288e8c5dd98f7bfd1a70b19c546\n",
            "  Stored in directory: /root/.cache/pip/wheels/47/01/d2/6a780da77ccb98b1d2facdd520a8d10838a03b590f6f8d50c0\n",
            "Successfully built box2d-py\n",
            "Installing collected packages: box2d-py\n",
            "Successfully installed box2d-py-2.3.8\n"
          ]
        }
      ],
      "source": [
        "!pip install swig\n",
        "!pip install box2d-py"
      ]
    },
    {
      "cell_type": "code",
      "source": [
        "!pip install gym[Box_2D]"
      ],
      "metadata": {
        "colab": {
          "base_uri": "https://localhost:8080/"
        },
        "id": "gsn1uZJYN0aO",
        "outputId": "c81d0a4d-b3c6-4a00-d056-a6fce87f552e"
      },
      "execution_count": 2,
      "outputs": [
        {
          "output_type": "stream",
          "name": "stdout",
          "text": [
            "Requirement already satisfied: gym[Box_2D] in /usr/local/lib/python3.10/dist-packages (0.25.2)\n",
            "\u001b[33mWARNING: gym 0.25.2 does not provide the extra 'box_2d'\u001b[0m\u001b[33m\n",
            "\u001b[0mRequirement already satisfied: numpy>=1.18.0 in /usr/local/lib/python3.10/dist-packages (from gym[Box_2D]) (1.23.5)\n",
            "Requirement already satisfied: cloudpickle>=1.2.0 in /usr/local/lib/python3.10/dist-packages (from gym[Box_2D]) (2.2.1)\n",
            "Requirement already satisfied: gym-notices>=0.0.4 in /usr/local/lib/python3.10/dist-packages (from gym[Box_2D]) (0.0.8)\n"
          ]
        }
      ]
    },
    {
      "cell_type": "code",
      "execution_count": 3,
      "metadata": {
        "colab": {
          "base_uri": "https://localhost:8080/"
        },
        "id": "23TOba33L4qf",
        "outputId": "4a211aa6-5db0-498b-a86a-1d919f94bd47"
      },
      "outputs": [
        {
          "output_type": "stream",
          "name": "stdout",
          "text": [
            "Sun Dec 17 05:37:02 2023       \n",
            "+---------------------------------------------------------------------------------------+\n",
            "| NVIDIA-SMI 535.104.05             Driver Version: 535.104.05   CUDA Version: 12.2     |\n",
            "|-----------------------------------------+----------------------+----------------------+\n",
            "| GPU  Name                 Persistence-M | Bus-Id        Disp.A | Volatile Uncorr. ECC |\n",
            "| Fan  Temp   Perf          Pwr:Usage/Cap |         Memory-Usage | GPU-Util  Compute M. |\n",
            "|                                         |                      |               MIG M. |\n",
            "|=========================================+======================+======================|\n",
            "|   0  Tesla V100-SXM2-16GB           Off | 00000000:00:04.0 Off |                    0 |\n",
            "| N/A   33C    P0              23W / 300W |      0MiB / 16384MiB |      0%      Default |\n",
            "|                                         |                      |                  N/A |\n",
            "+-----------------------------------------+----------------------+----------------------+\n",
            "                                                                                         \n",
            "+---------------------------------------------------------------------------------------+\n",
            "| Processes:                                                                            |\n",
            "|  GPU   GI   CI        PID   Type   Process name                            GPU Memory |\n",
            "|        ID   ID                                                             Usage      |\n",
            "|=======================================================================================|\n",
            "|  No running processes found                                                           |\n",
            "+---------------------------------------------------------------------------------------+\n"
          ]
        }
      ],
      "source": [
        "gpu_info = !nvidia-smi\n",
        "gpu_info = '\\n'.join(gpu_info)\n",
        "if gpu_info.find('failed') >= 0:\n",
        "  print('Not connected to a GPU')\n",
        "else:\n",
        "  print(gpu_info)"
      ]
    },
    {
      "cell_type": "markdown",
      "source": [
        "# Imports"
      ],
      "metadata": {
        "id": "fAjgdtRnQZig"
      }
    },
    {
      "cell_type": "code",
      "source": [
        "import gym\n",
        "import random\n",
        "import torch as T\n",
        "import torch.nn as nn\n",
        "import torch.nn.functional as F\n",
        "import torch.optim as optim\n",
        "import matplotlib.pyplot as plt\n",
        "import base64, io\n",
        "\n",
        "import numpy as np\n",
        "from collections import deque, namedtuple\n",
        "\n",
        "# For visualization\n",
        "from gym.wrappers.monitoring import video_recorder\n",
        "from IPython.display import HTML\n",
        "from IPython import display\n",
        "import glob"
      ],
      "metadata": {
        "id": "OCD-1PbCOCSY"
      },
      "execution_count": 4,
      "outputs": []
    },
    {
      "cell_type": "markdown",
      "source": [
        "# Helpers"
      ],
      "metadata": {
        "id": "Uaq2GW0KQn1D"
      }
    },
    {
      "cell_type": "code",
      "source": [
        "import matplotlib.pyplot as plt\n",
        "\n",
        "\n",
        "def plotLearning(x, scores, epsilons, filename, lines=None):\n",
        "    fig=plt.figure()\n",
        "    ax=fig.add_subplot(111, label=\"1\")\n",
        "    ax2=fig.add_subplot(111, label=\"2\", frame_on=False)\n",
        "\n",
        "    ax.plot(x, epsilons, color=\"C0\")\n",
        "    ax.set_xlabel(\"Game\", color=\"C0\")\n",
        "    ax.set_ylabel(\"Epsilon\", color=\"C0\")\n",
        "    ax.tick_params(axis='x', colors=\"C0\")\n",
        "    ax.tick_params(axis='y', colors=\"C0\")\n",
        "\n",
        "    N = len(scores)\n",
        "    running_avg = np.empty(N)\n",
        "    for t in range(N):\n",
        "\t    running_avg[t] = np.mean(scores[max(0, t-20):(t+1)])\n",
        "\n",
        "    ax2.scatter(x, running_avg, color=\"C1\")\n",
        "    #ax2.xaxis.tick_top()\n",
        "    ax2.axes.get_xaxis().set_visible(False)\n",
        "    ax2.yaxis.tick_right()\n",
        "    #ax2.set_xlabel('x label 2', color=\"C1\")\n",
        "    ax2.set_ylabel('Score', color=\"C1\")\n",
        "    #ax2.xaxis.set_label_position('top')\n",
        "    ax2.yaxis.set_label_position('right')\n",
        "    #ax2.tick_params(axis='x', colors=\"C1\")\n",
        "    ax2.tick_params(axis='y', colors=\"C1\")\n",
        "\n",
        "    if lines is not None:\n",
        "        for line in lines:\n",
        "            plt.axvline(x=line)\n",
        "\n",
        "    plt.savefig(filename)\n"
      ],
      "metadata": {
        "id": "SujugS-sm_pq",
        "colab": {
          "base_uri": "https://localhost:8080/"
        },
        "outputId": "1d9a11f2-12d7-4f25-dbb3-1c9d48a4231d"
      },
      "execution_count": 5,
      "outputs": [
        {
          "output_type": "stream",
          "name": "stderr",
          "text": [
            "/usr/local/lib/python3.10/dist-packages/ipykernel/ipkernel.py:283: DeprecationWarning: `should_run_async` will not call `transform_cell` automatically in the future. Please pass the result to `transformed_cell` argument and any exception that happen during thetransform in `preprocessing_exc_tuple` in IPython 7.17 and above.\n",
            "  and should_run_async(code)\n"
          ]
        }
      ]
    },
    {
      "cell_type": "code",
      "source": [
        "import gym\n",
        "\n",
        "\n",
        "def query_environment(name):\n",
        "    env = gym.make(name)\n",
        "    spec = gym.spec(name)\n",
        "    print(f\"Action Space: {env.action_space}\")\n",
        "    print(f\"Observation Space: {env.observation_space}\")\n",
        "    print(f\"Max Episode Steps: {spec.max_episode_steps}\")\n",
        "    print(f\"Nondeterministic: {spec.nondeterministic}\")\n",
        "    print(f\"Reward Range: {env.reward_range}\")\n",
        "    print(f\"Reward Threshold: {spec.reward_threshold}\")"
      ],
      "metadata": {
        "id": "TwriVzq_OsAC"
      },
      "execution_count": 6,
      "outputs": []
    },
    {
      "cell_type": "code",
      "source": [
        "query_environment(\"LunarLander-v2\")"
      ],
      "metadata": {
        "colab": {
          "base_uri": "https://localhost:8080/"
        },
        "id": "wallfPv8OtNM",
        "outputId": "95aae3ed-af7f-4267-8d67-c56a5478f07d"
      },
      "execution_count": 7,
      "outputs": [
        {
          "output_type": "stream",
          "name": "stdout",
          "text": [
            "Action Space: Discrete(4)\n",
            "Observation Space: Box([-1.5       -1.5       -5.        -5.        -3.1415927 -5.\n",
            " -0.        -0.       ], [1.5       1.5       5.        5.        3.1415927 5.        1.\n",
            " 1.       ], (8,), float32)\n",
            "Max Episode Steps: 1000\n",
            "Nondeterministic: False\n",
            "Reward Range: (-inf, inf)\n",
            "Reward Threshold: 200\n"
          ]
        },
        {
          "output_type": "stream",
          "name": "stderr",
          "text": [
            "/usr/local/lib/python3.10/dist-packages/gym/core.py:317: DeprecationWarning: \u001b[33mWARN: Initializing wrapper in old step API which returns one bool instead of two. It is recommended to set `new_step_api=True` to use new step API. This will be the default behaviour in future.\u001b[0m\n",
            "  deprecation(\n",
            "/usr/local/lib/python3.10/dist-packages/gym/wrappers/step_api_compatibility.py:39: DeprecationWarning: \u001b[33mWARN: Initializing environment in old step API which returns one bool instead of two. It is recommended to set `new_step_api=True` to use new step API. This will be the default behaviour in future.\u001b[0m\n",
            "  deprecation(\n"
          ]
        }
      ]
    },
    {
      "cell_type": "markdown",
      "source": [
        "# Load Env"
      ],
      "metadata": {
        "id": "ToJ_OLIxQ3f6"
      }
    },
    {
      "cell_type": "code",
      "source": [
        "env = gym.make('LunarLander-v2')\n",
        "env.reset(seed=1)\n",
        "print('State shape: ', env.observation_space.shape)\n",
        "print('Number of actions: ', env.action_space.n)"
      ],
      "metadata": {
        "colab": {
          "base_uri": "https://localhost:8080/"
        },
        "id": "KylvMaR1OIp7",
        "outputId": "f529085e-d586-4fca-bb01-6c7a9519bb76"
      },
      "execution_count": 8,
      "outputs": [
        {
          "output_type": "stream",
          "name": "stdout",
          "text": [
            "State shape:  (8,)\n",
            "Number of actions:  4\n"
          ]
        }
      ]
    },
    {
      "cell_type": "markdown",
      "source": [
        "# Pytorch DQN"
      ],
      "metadata": {
        "id": "T92yMnZ8Q-Xw"
      }
    },
    {
      "cell_type": "code",
      "source": [
        "class DQN(nn.Module):\n",
        "  def __init__(self,lr,input_dims, fc1_dims, fc2_dims, n_actions):\n",
        "    super(DQN,self).__init__()\n",
        "    self.input_dims=input_dims\n",
        "    self.fc1_dims=fc1_dims\n",
        "    self.fc2_dims=fc2_dims\n",
        "    self.n_actions=n_actions\n",
        "    self.fc1=nn.Linear(*self.input_dims,self.fc1_dims)\n",
        "    self.fc2=nn.Linear(self.fc1_dims,self.fc2_dims)\n",
        "    self.fc3=nn.Linear(self.fc2_dims,self.n_actions)\n",
        "    self.optimizer = optim.Adam(self.parameters(),lr=lr)\n",
        "    self.loss=nn.MSELoss()\n",
        "    self.device = T.device('cuda:0' if T.cuda.is_available() else 'cpu')\n",
        "    self.to(self.device)\n",
        "\n",
        "  def forward(self,state):\n",
        "    x=F.relu(self.fc1(state))\n",
        "    x2=F.relu(self.fc2(x))\n",
        "    actions=self.fc3(x2)\n",
        "    return actions\n",
        "\n",
        "\n",
        "\n",
        "\n",
        "\n"
      ],
      "metadata": {
        "id": "HyeF5s7yPjRS"
      },
      "execution_count": 9,
      "outputs": []
    },
    {
      "cell_type": "markdown",
      "source": [
        "# Agent"
      ],
      "metadata": {
        "id": "LA2EKqHnwjCG"
      }
    },
    {
      "cell_type": "code",
      "source": [
        "class Agent():\n",
        "  def __init__(self,gamma, epsilon, lr, input_dims, batchsize, n_actions,max_memory_size = 100000, eps_end=0.01, eps_decay=3e-4 ) -> None:\n",
        "    self.gamma=gamma\n",
        "    self.epsilon=epsilon\n",
        "    self.eps_min=eps_end\n",
        "    self.eps_decay = eps_decay\n",
        "    self.lr=lr\n",
        "    self.input_dims=input_dims\n",
        "    self.batchsize=batchsize\n",
        "    self.action_space = [i for i in range(n_actions)]\n",
        "    self.max_memory_size=max_memory_size\n",
        "    self.mem_counter = 0\n",
        "    #self.Q_eval = DQN(self.lr,self.input_dims, 256, 256,n_actions)\n",
        "    self.Q_eval = DQN(lr=self.lr, n_actions=n_actions, input_dims=self.input_dims, fc1_dims=256, fc2_dims=256)\n",
        "    self.state_replay_buffer = np.zeros((self.max_memory_size, *input_dims),dtype=np.float32)\n",
        "    self.new_states_buffer = np.zeros((self.max_memory_size, *input_dims),dtype=np.float32)\n",
        "    self.action_buffer = np.zeros((self.max_memory_size),dtype=np.int16)\n",
        "    self.reward_buffer = np.zeros((self.max_memory_size),dtype=np.float32)\n",
        "    self.terminal_buffer = np.zeros((self.max_memory_size),dtype=bool)\n",
        "\n",
        "  def store_transition(self, state, action, reward, state_next, done):\n",
        "    index= self.mem_counter % self.max_memory_size\n",
        "    self.state_replay_buffer[index] = state\n",
        "    self.new_states_buffer[index] = state_next\n",
        "    self.action_buffer[index] = action\n",
        "    self.reward_buffer[index] = reward\n",
        "    self.terminal_buffer[index] = done\n",
        "\n",
        "    self.mem_counter+=1\n",
        "\n",
        "  def get_action(self,observation):\n",
        "    if np.random.random() >= self.epsilon:\n",
        "      # state = T.tensor([observation]).to(self.Q_eval.device)\n",
        "      state = T.tensor(np.array(observation)).to(self.Q_eval.device)\n",
        "\n",
        "      actions = self.Q_eval.forward(state)\n",
        "      action = T.argmax(actions).item()\n",
        "    else:\n",
        "      action = np.random.choice(self.action_space)\n",
        "\n",
        "    return action\n",
        "\n",
        "  def learn(self):\n",
        "    if self.mem_counter < self.batchsize:\n",
        "      return\n",
        "\n",
        "    self.Q_eval.optimizer.zero_grad()\n",
        "    max_memory = min(self.mem_counter, self.max_memory_size)\n",
        "    batch = np.random.choice(max_memory, self.batchsize, replace=False)\n",
        "    batch_idx = np.arange(self.batchsize, dtype=np.int32)\n",
        "\n",
        "    state_batch = T.tensor(self.state_replay_buffer[batch]).to(self.Q_eval.device)\n",
        "    new_states_batch = T.tensor(self.new_states_buffer[batch]).to(self.Q_eval.device)\n",
        "    #action_buffer_batch = T.tensor(self.action_buffer[batch]).to(self.Q_eval.device)\n",
        "    reward_buffer_batch = T.tensor(self.reward_buffer[batch]).to(self.Q_eval.device)\n",
        "    terminal_buffer_batch = T.tensor(self.terminal_buffer[batch]).to(self.Q_eval.device)\n",
        "    action_buffer_batch = self.action_buffer[batch]\n",
        "\n",
        "    q_eval = self.Q_eval.forward(state_batch)[batch_idx, action_buffer_batch]\n",
        "    q_next = self.Q_eval.forward(new_states_batch)\n",
        "    q_next[terminal_buffer_batch] = 0\n",
        "    q_target = reward_buffer_batch + self.gamma * T.max(q_next,dim = 1)[0]\n",
        "\n",
        "    loss = self.Q_eval.loss(q_target,q_eval).to(self.Q_eval.device)\n",
        "    loss.backward()\n",
        "    self.Q_eval.optimizer.step()\n",
        "\n",
        "    self.epsilon = self.epsilon - self.eps_decay if self.epsilon > self.eps_min\\\n",
        "                    else self.eps_min\n"
      ],
      "metadata": {
        "id": "3Bpt8andS3FX"
      },
      "execution_count": 10,
      "outputs": []
    },
    {
      "cell_type": "markdown",
      "source": [
        "# Learning"
      ],
      "metadata": {
        "id": "0Qym2XHHaAR8"
      }
    },
    {
      "cell_type": "code",
      "source": [
        "env = gym.make('LunarLander-v2')\n",
        "agent = Agent(gamma=0.99, epsilon=1.0, batchsize=64, n_actions=4, eps_end=0.01, eps_decay=0.00005,input_dims=[8], lr= 0.003 )\n",
        "\n",
        "avg_scores, scores, eps_history =[], [], []\n",
        "num_games = 2000\n",
        "\n",
        "for x in range(num_games):\n",
        "  avg_score = 0\n",
        "  score = 0\n",
        "  done = False\n",
        "  observation = env.reset()\n",
        "  while not done:\n",
        "    action = agent.get_action(observation)\n",
        "    observation_next, reward, done, info = env.step(action)\n",
        "    score += reward\n",
        "    agent.store_transition(observation, action,reward,observation_next,done)\n",
        "    agent.learn()\n",
        "    observation = observation_next\n",
        "  scores.append(score)\n",
        "  eps_history.append(agent.epsilon)\n",
        "  avg_score = np.mean(scores[-100:])\n",
        "  if x%50==0:\n",
        "    print (\"epsisode \",x,\"score %.2f\"%score, \"avg_score %.2f\"%avg_score, \"epsilon %.2f\"%agent.epsilon)\n",
        "  if x>1 and x%100==0:\n",
        "    T.save(agent.Q_eval.state_dict(), 'checkpoint.pth')\n",
        "  if avg_score>=200.0:\n",
        "    print('\\nEnvironment solved in {:d} episodes!\\tAverage Score: {:.2f}'.format(x-100, avg_score))\n",
        "    T.save(agent.Q_eval.state_dict(), 'checkpoint.pth')\n",
        "    break;\n",
        "\n",
        "x = [i+1 for i in range(len(scores))]\n",
        "filename = 'lunar_lander.png'\n",
        "plotLearning(x,scores,eps_history,filename)\n",
        "\n",
        "\n",
        "\n"
      ],
      "metadata": {
        "colab": {
          "base_uri": "https://localhost:8080/",
          "height": 1000
        },
        "id": "2bGmw6UaaLG-",
        "outputId": "e047664d-9322-4bfa-e68d-5d55916e276d"
      },
      "execution_count": 11,
      "outputs": [
        {
          "output_type": "stream",
          "name": "stdout",
          "text": [
            "epsisode  0 score -217.65 avg_score -217.65 epsilon 1.00\n",
            "epsisode  50 score -185.01 avg_score -144.07 epsilon 0.76\n",
            "epsisode  100 score -5.87 avg_score -110.10 epsilon 0.46\n",
            "epsisode  150 score -74.00 avg_score -76.17 epsilon 0.01\n",
            "epsisode  200 score -106.90 avg_score -77.20 epsilon 0.01\n",
            "epsisode  250 score -377.92 avg_score -73.60 epsilon 0.01\n",
            "epsisode  300 score 219.58 avg_score -40.66 epsilon 0.01\n",
            "epsisode  350 score -20.30 avg_score -2.56 epsilon 0.01\n",
            "epsisode  400 score -148.30 avg_score 21.92 epsilon 0.01\n",
            "epsisode  450 score 245.37 avg_score 61.91 epsilon 0.01\n",
            "epsisode  500 score 268.61 avg_score 88.75 epsilon 0.01\n",
            "epsisode  550 score 211.06 avg_score 61.80 epsilon 0.01\n",
            "epsisode  600 score 218.44 avg_score 80.73 epsilon 0.01\n",
            "epsisode  650 score 180.38 avg_score 144.84 epsilon 0.01\n",
            "epsisode  700 score 209.68 avg_score 142.40 epsilon 0.01\n",
            "epsisode  750 score -68.58 avg_score 113.28 epsilon 0.01\n",
            "epsisode  800 score 233.60 avg_score 138.93 epsilon 0.01\n",
            "epsisode  850 score 277.81 avg_score 160.73 epsilon 0.01\n",
            "epsisode  900 score -75.40 avg_score 162.13 epsilon 0.01\n",
            "epsisode  950 score 265.81 avg_score 175.55 epsilon 0.01\n",
            "epsisode  1000 score 239.80 avg_score 129.94 epsilon 0.01\n",
            "epsisode  1050 score -7.30 avg_score 125.99 epsilon 0.01\n",
            "epsisode  1100 score 229.01 avg_score 163.80 epsilon 0.01\n",
            "epsisode  1150 score 268.72 avg_score 173.48 epsilon 0.01\n",
            "epsisode  1200 score 257.39 avg_score 179.81 epsilon 0.01\n",
            "epsisode  1250 score 269.54 avg_score 160.35 epsilon 0.01\n",
            "epsisode  1300 score 277.44 avg_score 124.66 epsilon 0.01\n",
            "epsisode  1350 score 238.03 avg_score 144.73 epsilon 0.01\n",
            "epsisode  1400 score 54.75 avg_score 173.93 epsilon 0.01\n",
            "epsisode  1450 score 278.34 avg_score 153.67 epsilon 0.01\n",
            "epsisode  1500 score 13.15 avg_score 139.13 epsilon 0.01\n",
            "epsisode  1550 score 281.98 avg_score 128.52 epsilon 0.01\n",
            "epsisode  1600 score -36.44 avg_score 148.76 epsilon 0.01\n",
            "epsisode  1650 score 254.72 avg_score 168.71 epsilon 0.01\n",
            "epsisode  1700 score 257.96 avg_score 168.66 epsilon 0.01\n",
            "epsisode  1750 score 272.09 avg_score 194.04 epsilon 0.01\n",
            "\n",
            "Environment solved in 1651 episodes!\tAverage Score: 202.55\n"
          ]
        },
        {
          "output_type": "display_data",
          "data": {
            "text/plain": [
              "<Figure size 640x480 with 2 Axes>"
            ],
            "image/png": "[encoded data removed]"
          },
          "metadata": {}
        }
      ]
    },
    {
      "cell_type": "markdown",
      "source": [
        "# Run Video"
      ],
      "metadata": {
        "id": "jMc1TfGKyn-0"
      }
    },
    {
      "cell_type": "code",
      "source": [
        "import base64, io\n",
        "from collections import deque, namedtuple\n",
        "\n",
        "# For visualization\n",
        "from gym.wrappers.monitoring import video_recorder\n",
        "from IPython.display import HTML\n",
        "from IPython import display\n",
        "import glob\n",
        "\n",
        "\n",
        "def show_video(env_name):\n",
        "    mp4list = glob.glob('*.mp4')\n",
        "    if len(mp4list) > 0:\n",
        "        mp4 = '{}.mp4'.format(env_name)\n",
        "        video = io.open(mp4, 'r+b').read()\n",
        "        encoded = base64.b64encode(video)\n",
        "        display.display(HTML(data='''<video alt=\"test\" autoplay\n",
        "                loop controls style=\"height: 400px;\">\n",
        "                <source src=\"data:video/mp4;base64,{0}\" type=\"video/mp4\" />\n",
        "             </video>'''.format(encoded.decode('ascii'))))\n",
        "    else:\n",
        "        print(\"Could not find video\")\n",
        "\n",
        "def show_video_of_model(agent, env_name):\n",
        "    env = gym.make(env_name)\n",
        "    vid = video_recorder.VideoRecorder(env, path=\"{}.mp4\".format(env_name))\n",
        "    agent.Q_eval.load_state_dict(T.load('checkpoint.pth'))\n",
        "    state = env.reset()\n",
        "    done = False\n",
        "    while not done:\n",
        "        frame = env.render(mode='rgb_array')\n",
        "        vid.capture_frame()\n",
        "\n",
        "        action = agent.get_action(state)\n",
        "\n",
        "        state, reward, done, _ = env.step(action)\n",
        "    env.close()"
      ],
      "metadata": {
        "colab": {
          "base_uri": "https://localhost:8080/"
        },
        "id": "ftr8fM3OytGF",
        "outputId": "a64c4c1e-045a-494a-8501-f59a6a0de78e"
      },
      "execution_count": 12,
      "outputs": [
        {
          "output_type": "stream",
          "name": "stderr",
          "text": [
            "/usr/local/lib/python3.10/dist-packages/ipykernel/ipkernel.py:283: DeprecationWarning: `should_run_async` will not call `transform_cell` automatically in the future. Please pass the result to `transformed_cell` argument and any exception that happen during thetransform in `preprocessing_exc_tuple` in IPython 7.17 and above.\n",
            "  and should_run_async(code)\n"
          ]
        }
      ]
    },
    {
      "cell_type": "code",
      "source": [
        "#env = gym.make('LunarLander-v2')\n",
        "agent = Agent(gamma=0.99, epsilon=0, batchsize=64, n_actions=4, eps_end=0, eps_decay=0.001,input_dims=[8], lr= 0.003 )\n",
        "\n",
        "show_video_of_model(agent, 'LunarLander-v2')"
      ],
      "metadata": {
        "colab": {
          "base_uri": "https://localhost:8080/"
        },
        "id": "yfDewhtWzF5h",
        "outputId": "572b0d32-5fcf-41ff-8461-e8343f10e65d"
      },
      "execution_count": 13,
      "outputs": [
        {
          "output_type": "stream",
          "name": "stderr",
          "text": [
            "/usr/local/lib/python3.10/dist-packages/gym/core.py:317: DeprecationWarning: \u001b[33mWARN: Initializing wrapper in old step API which returns one bool instead of two. It is recommended to set `new_step_api=True` to use new step API. This will be the default behaviour in future.\u001b[0m\n",
            "  deprecation(\n",
            "/usr/local/lib/python3.10/dist-packages/gym/wrappers/step_api_compatibility.py:39: DeprecationWarning: \u001b[33mWARN: Initializing environment in old step API which returns one bool instead of two. It is recommended to set `new_step_api=True` to use new step API. This will be the default behaviour in future.\u001b[0m\n",
            "  deprecation(\n",
            "/usr/local/lib/python3.10/dist-packages/gym/wrappers/monitoring/video_recorder.py:78: DeprecationWarning: \u001b[33mWARN: Recording ability for environment LunarLander-v2 initialized with `render_mode=None` is marked as deprecated and will be removed in the future.\u001b[0m\n",
            "  logger.deprecation(\n",
            "/usr/local/lib/python3.10/dist-packages/gym/wrappers/monitoring/video_recorder.py:101: DeprecationWarning: \u001b[33mWARN: <class 'gym.wrappers.monitoring.video_recorder.VideoRecorder'> is marked as deprecated and will be removed in the future.\u001b[0m\n",
            "  logger.deprecation(\n",
            "/usr/local/lib/python3.10/dist-packages/gym/core.py:43: DeprecationWarning: \u001b[33mWARN: The argument mode in render method is deprecated; use render_mode during environment initialization instead.\n",
            "See here for more information: https://www.gymlibrary.ml/content/api/\u001b[0m\n",
            "  deprecation(\n",
            "/usr/local/lib/python3.10/dist-packages/gym/core.py:43: DeprecationWarning: \u001b[33mWARN: The argument mode in render method is deprecated; use render_mode during environment initialization instead.\n",
            "See here for more information: https://www.gymlibrary.ml/content/api/\u001b[0m\n",
            "  deprecation(\n"
          ]
        }
      ]
    },
    {
      "cell_type": "code",
      "source": [
        "show_video('LunarLander-v2')"
      ],
      "metadata": {
        "colab": {
          "base_uri": "https://localhost:8080/",
          "height": 476
        },
        "id": "4pW2AmDVCZ0i",
        "outputId": "26b87888-9844-4b31-e4b6-5de7fd654daa"
      },
      "execution_count": 14,
      "outputs": [
        {
          "output_type": "stream",
          "name": "stderr",
          "text": [
            "/usr/local/lib/python3.10/dist-packages/ipykernel/ipkernel.py:283: DeprecationWarning: `should_run_async` will not call `transform_cell` automatically in the future. Please pass the result to `transformed_cell` argument and any exception that happen during thetransform in `preprocessing_exc_tuple` in IPython 7.17 and above.\n",
            "  and should_run_async(code)\n"
          ]
        },
        {
          "output_type": "display_data",
          "data": {
            "text/plain": [
              "<IPython.core.display.HTML object>"
            ],
            "text/html": [
              "<video alt=\"test\" autoplay \n",
              "                loop controls style=\"height: 400px;\">\n",
              "                <source src=\"data:video/mp4;base64,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\" type=\"video/mp4\" />\n",
              "             </video>"
            ]
          },
          "metadata": {}
        }
      ]
    }
  ]
}